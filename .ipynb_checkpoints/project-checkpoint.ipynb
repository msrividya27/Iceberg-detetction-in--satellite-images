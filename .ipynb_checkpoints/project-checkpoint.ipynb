{
 "cells": [
  {
   "cell_type": "code",
   "execution_count": 1,
   "id": "d1b9743d",
   "metadata": {},
   "outputs": [],
   "source": [
    "from keras.preprocessing.image import ImageDataGenerator"
   ]
  },
  {
   "cell_type": "code",
   "execution_count": 2,
   "id": "d6986510",
   "metadata": {},
   "outputs": [],
   "source": [
    "train_datagen=ImageDataGenerator(rescale= 1./255,zoom_range=0.2,horizontal_flip=True,shear_range=0.2)"
   ]
  },
  {
   "cell_type": "code",
   "execution_count": 3,
   "id": "b42b49ef",
   "metadata": {},
   "outputs": [],
   "source": [
    "test_datagen=ImageDataGenerator(rescale= 1./255)"
   ]
  },
  {
   "cell_type": "code",
   "execution_count": 4,
   "id": "4ab8d525",
   "metadata": {},
   "outputs": [
    {
     "name": "stdout",
     "output_type": "stream",
     "text": [
      "Found 1284 images belonging to 2 classes.\n"
     ]
    }
   ],
   "source": [
    "x_train=train_datagen.flow_from_directory(r\"C:\\Users\\maddi\\OneDrive\\Desktop\\SMARTBRIDGE\\Iceberg Detection\\dataset\\train\",\n",
    "                                          target_size=(75,75),\n",
    "                                          class_mode='binary',\n",
    "                                          batch_size=32)"
   ]
  },
  {
   "cell_type": "code",
   "execution_count": 5,
   "id": "e2337c2d",
   "metadata": {},
   "outputs": [
    {
     "name": "stdout",
     "output_type": "stream",
     "text": [
      "Found 320 images belonging to 2 classes.\n"
     ]
    }
   ],
   "source": [
    "x_test=test_datagen.flow_from_directory(r\"C:\\Users\\maddi\\OneDrive\\Desktop\\SMARTBRIDGE\\Iceberg Detection\\dataset\\test\",\n",
    "                                        target_size=(75,75),\n",
    "                                        class_mode='binary',\n",
    "                                        batch_size=32)"
   ]
  },
  {
   "cell_type": "code",
   "execution_count": 6,
   "id": "6fa47a4c",
   "metadata": {},
   "outputs": [
    {
     "data": {
      "text/plain": [
       "{'Iceberg': 0, 'Ship': 1}"
      ]
     },
     "execution_count": 6,
     "metadata": {},
     "output_type": "execute_result"
    }
   ],
   "source": [
    "x_train.class_indices"
   ]
  },
  {
   "cell_type": "code",
   "execution_count": 7,
   "id": "a05b013b",
   "metadata": {},
   "outputs": [],
   "source": [
    "from keras.preprocessing.image import ImageDataGenerator\n",
    "from keras.models import Sequential\n",
    "from keras.layers import Conv2D,MaxPooling2D,Dense,Dropout,Flatten\n",
    "from keras.layers import MaxPooling2D"
   ]
  },
  {
   "cell_type": "code",
   "execution_count": 8,
   "id": "da52e821",
   "metadata": {},
   "outputs": [],
   "source": [
    "model=Sequential()"
   ]
  },
  {
   "cell_type": "code",
   "execution_count": 9,
   "id": "843c22da",
   "metadata": {},
   "outputs": [],
   "source": [
    "model.add(Conv2D(64,(3,3),input_shape=(75,75,3),activation='relu'))\n"
   ]
  },
  {
   "cell_type": "code",
   "execution_count": 10,
   "id": "b0b340a3",
   "metadata": {},
   "outputs": [],
   "source": [
    "model.add(MaxPooling2D(pool_size=(3,3), strides=(2,2)))"
   ]
  },
  {
   "cell_type": "code",
   "execution_count": 11,
   "id": "266898dd",
   "metadata": {},
   "outputs": [],
   "source": [
    "model.add(Flatten())"
   ]
  },
  {
   "cell_type": "code",
   "execution_count": 12,
   "id": "1f1c3346",
   "metadata": {},
   "outputs": [
    {
     "name": "stdout",
     "output_type": "stream",
     "text": [
      "Model: \"sequential\"\n",
      "_________________________________________________________________\n",
      "Layer (type)                 Output Shape              Param #   \n",
      "=================================================================\n",
      "conv2d (Conv2D)              (None, 73, 73, 64)        1792      \n",
      "_________________________________________________________________\n",
      "max_pooling2d (MaxPooling2D) (None, 36, 36, 64)        0         \n",
      "_________________________________________________________________\n",
      "flatten (Flatten)            (None, 82944)             0         \n",
      "=================================================================\n",
      "Total params: 1,792\n",
      "Trainable params: 1,792\n",
      "Non-trainable params: 0\n",
      "_________________________________________________________________\n"
     ]
    }
   ],
   "source": [
    "model.summary()"
   ]
  },
  {
   "cell_type": "code",
   "execution_count": 13,
   "id": "d93a97d7",
   "metadata": {},
   "outputs": [],
   "source": [
    "model.add(Dense(512,activation=\"relu\"))\n",
    "model.add(Dense(256,activation=\"relu\"))\n",
    "model.add(Dense(1,activation=\"sigmoid\"))"
   ]
  },
  {
   "cell_type": "code",
   "execution_count": 14,
   "id": "9cdc1f1c",
   "metadata": {},
   "outputs": [],
   "source": [
    "model.compile(loss=\"binary_crossentropy\",optimizer='adam',metrics=['accuracy'])"
   ]
  },
  {
   "cell_type": "code",
   "execution_count": 17,
   "id": "ad4cfaa2",
   "metadata": {},
   "outputs": [
    {
     "name": "stdout",
     "output_type": "stream",
     "text": [
      "Epoch 1/10\n",
      "41/41 [==============================] - 13s 325ms/step - loss: 0.6015 - accuracy: 0.6659 - val_loss: 0.5430 - val_accuracy: 0.7719\n",
      "Epoch 2/10\n",
      "41/41 [==============================] - 13s 323ms/step - loss: 0.5577 - accuracy: 0.7188 - val_loss: 0.6170 - val_accuracy: 0.6250\n",
      "Epoch 3/10\n",
      "41/41 [==============================] - 13s 311ms/step - loss: 0.5173 - accuracy: 0.7461 - val_loss: 0.4590 - val_accuracy: 0.7688\n",
      "Epoch 4/10\n",
      "41/41 [==============================] - 13s 316ms/step - loss: 0.4408 - accuracy: 0.7804 - val_loss: 0.4808 - val_accuracy: 0.7906\n",
      "Epoch 5/10\n",
      "41/41 [==============================] - 14s 330ms/step - loss: 0.4273 - accuracy: 0.8014 - val_loss: 0.4386 - val_accuracy: 0.8000\n",
      "Epoch 6/10\n",
      "41/41 [==============================] - 14s 336ms/step - loss: 0.4207 - accuracy: 0.7788 - val_loss: 0.4401 - val_accuracy: 0.8031\n",
      "Epoch 7/10\n",
      "41/41 [==============================] - 14s 344ms/step - loss: 0.4417 - accuracy: 0.7819 - val_loss: 0.4102 - val_accuracy: 0.8219\n",
      "Epoch 8/10\n",
      "41/41 [==============================] - 14s 342ms/step - loss: 0.4106 - accuracy: 0.8045 - val_loss: 0.3891 - val_accuracy: 0.8281\n",
      "Epoch 9/10\n",
      "41/41 [==============================] - 14s 349ms/step - loss: 0.3891 - accuracy: 0.8232 - val_loss: 0.3770 - val_accuracy: 0.8344\n",
      "Epoch 10/10\n",
      "41/41 [==============================] - 14s 340ms/step - loss: 0.4072 - accuracy: 0.8185 - val_loss: 0.4598 - val_accuracy: 0.7781\n"
     ]
    },
    {
     "data": {
      "text/plain": [
       "<tensorflow.python.keras.callbacks.History at 0x1c8a87e1f10>"
      ]
     },
     "execution_count": 17,
     "metadata": {},
     "output_type": "execute_result"
    }
   ],
   "source": [
    "model.fit_generator(x_train,\n",
    "                  steps_per_epoch=len(x_train),\n",
    "                  epochs=10,\n",
    "                  validation_data=x_test,\n",
    "                  validation_steps=len(x_test))"
   ]
  },
  {
   "cell_type": "code",
   "execution_count": 9,
   "id": "39dc81bd",
   "metadata": {},
   "outputs": [],
   "source": [
    "model.save('iceberg.h5')"
   ]
  },
  {
   "cell_type": "code",
   "execution_count": 20,
   "id": "b6ec991f",
   "metadata": {},
   "outputs": [],
   "source": [
    "import numpy as np\n",
    "import cv2\n",
    "from tensorflow.keras.models import load_model\n",
    "from tensorflow.keras.preprocessing import image"
   ]
  },
  {
   "cell_type": "code",
   "execution_count": 21,
   "id": "4c0b2556",
   "metadata": {},
   "outputs": [],
   "source": [
    "from skimage.transform import resize\n",
    "def detect(frame):\n",
    "    img=resize(frame,(75,75))\n",
    "    img=np.expand_dims(img,axis=0)\n",
    "    if(np.max(img)>1):\n",
    "        img=img/255.0\n",
    "    prediction=model.predict(img)\n",
    "    print(prediction)\n",
    "    prediction=model.predict_classes(img)\n",
    "    print(prediction)"
   ]
  },
  {
   "cell_type": "code",
   "execution_count": 22,
   "id": "af2918bd",
   "metadata": {},
   "outputs": [
    {
     "name": "stdout",
     "output_type": "stream",
     "text": [
      "[[0.74876046]]\n",
      "[[1]]\n"
     ]
    }
   ],
   "source": [
    "frame=cv2.imread(r\"C:\\Users\\maddi\\OneDrive\\Desktop\\SMARTBRIDGE\\Iceberg Detection\\dataset\\test\\Ship\\f263.png\")\n",
    "data=detect(frame)"
   ]
  },
  {
   "cell_type": "code",
   "execution_count": null,
   "id": "0666cd56",
   "metadata": {},
   "outputs": [],
   "source": []
  }
 ],
 "metadata": {
  "kernelspec": {
   "display_name": "Python 3",
   "language": "python",
   "name": "python3"
  },
  "language_info": {
   "codemirror_mode": {
    "name": "ipython",
    "version": 3
   },
   "file_extension": ".py",
   "mimetype": "text/x-python",
   "name": "python",
   "nbconvert_exporter": "python",
   "pygments_lexer": "ipython3",
   "version": "3.8.10"
  }
 },
 "nbformat": 4,
 "nbformat_minor": 5
}
